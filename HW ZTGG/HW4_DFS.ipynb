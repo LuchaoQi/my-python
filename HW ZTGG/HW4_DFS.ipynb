{
 "cells": [
  {
   "cell_type": "code",
   "execution_count": 1,
   "metadata": {},
   "outputs": [],
   "source": [
    "import selenium\n",
    "import pandas as pd\n",
    "import numpy as np\n",
    "from dfply import *"
   ]
  },
  {
   "cell_type": "markdown",
   "metadata": {},
   "source": [
    "1. Given an array of length n, all the numbers in the array are between 0 and n-1. Assume there is duplicate numbers in the array. Find out all the missing numbers in the array. Requirement: we are not allowed to use extra space. Please work on the array itself.\n",
    "\n",
    "E.g, arr = [2,1,2,2,3], length = 5, missing = [0,4]"
   ]
  },
  {
   "cell_type": "code",
   "execution_count": 2,
   "metadata": {},
   "outputs": [
    {
     "name": "stdout",
     "output_type": "stream",
     "text": [
      "[0, 4]\n"
     ]
    }
   ],
   "source": [
    "def notshown(arr):\n",
    "    comp = range(len(arr))\n",
    "    missing = []\n",
    "    for i in comp:\n",
    "        if i not in arr:\n",
    "            missing.append(i)\n",
    "    return(missing)\n",
    "arr = [2,1,2,2,3]\n",
    "print(notshown(arr))"
   ]
  },
  {
   "cell_type": "markdown",
   "metadata": {},
   "source": [
    "2. Combination sum.\n",
    "\n",
    "Given a set of candidate numbers (candidates) (without duplicates) and a target number (target), find all unique combinations in candidates where the candidate numbers sums to target.\n",
    "\n",
    "The same repeated number may be chosen from candidates unlimited number of times.\n",
    "\n",
    "Note:\n",
    "\n",
    "All numbers (including target) will be positive integers.\n",
    "\n",
    "The solution set must not contain duplicate combinations.\n",
    "\n",
    "Example 1:\n",
    "\n",
    "Input: candidates = [2,3,6,7], target = 7,\n",
    "\n",
    "A solution set is:\n",
    "\n",
    "[\n",
    "\n",
    "  [7],\n",
    "\n",
    "  [2,2,3]\n",
    "\n",
    "]\n",
    "\n",
    "\n",
    "Example 2:\n",
    "\n",
    "Input: candidates = [2,3,5], target = 8,\n",
    "\n",
    "A solution set is:\n",
    "\n",
    "[\n",
    "\n",
    "  [2,2,2,2],\n",
    "\n",
    "  [2,3,3],\n",
    "\n",
    "  [3,5]\n",
    "\n",
    "]"
   ]
  },
  {
   "cell_type": "code",
   "execution_count": 7,
   "metadata": {},
   "outputs": [
    {
     "data": {
      "text/plain": [
       "[[3, 2, 2], [2, 3, 2], [2, 2, 3], [7]]"
      ]
     },
     "execution_count": 7,
     "metadata": {},
     "output_type": "execute_result"
    }
   ],
   "source": [
    "# class Solution: \n",
    "#     def combinationSum(self, candidates, target):\n",
    "#         res = []\n",
    "#         candidates.sort()\n",
    "#         self.dfs(candidates, target, 0, [], res)\n",
    "#         return res\n",
    "    \n",
    "#     def dfs(self, nums, target, index, path, res):\n",
    "#         if target < 0:\n",
    "#             return  # backtracking\n",
    "#         if target == 0:\n",
    "#             res.append(path)\n",
    "#             return \n",
    "#         for i in range(index, len(nums)):\n",
    "#             self.dfs(nums, target-nums[i], i, path+[nums[i]], res)\n",
    "\n",
    "# arr = [2,3,6,7]\n",
    "# tgt = 7\n",
    "# a = Solution()\n",
    "# print(a.combinationSum(arr,tgt))\n",
    "\n",
    "def combinationSum(arr, tgt):\n",
    "    result = []\n",
    "    if tgt < 0:\n",
    "        return result\n",
    "    for i in range(0, len(arr)):\n",
    "        if tgt - arr[i] > 0:\n",
    "            tmp_result = combinationSum(arr, tgt-arr[i])\n",
    "            if len(tmp_result) > 0:\n",
    "                tmp_result = [ele + [arr[i]] for ele in tmp_result]\n",
    "                result.extend(tmp_result)\n",
    "        elif tgt - arr[i] == 0:\n",
    "            result.append([arr[i]])\n",
    "    return result\n",
    "candidates = [2,3,6,7]\n",
    "combinationSum(candidates, 7)"
   ]
  },
  {
   "cell_type": "markdown",
   "metadata": {},
   "source": [
    "3. Flatten list. A list may contain another list as its element. Flatten the list."
   ]
  },
  {
   "cell_type": "code",
   "execution_count": 4,
   "metadata": {},
   "outputs": [
    {
     "name": "stdout",
     "output_type": "stream",
     "text": [
      "[1, 2, 3, 4]\n"
     ]
    }
   ],
   "source": [
    "def flatten_list(lst):\n",
    "    res = [int(i) for i in str(lst) if i.isnumeric()]\n",
    "    return res\n",
    "a = [[[1,2]], [3,4]]\n",
    "print(flatten_list(a))"
   ]
  }
 ],
 "metadata": {
  "kernelspec": {
   "display_name": "Python 3",
   "language": "python",
   "name": "python3"
  },
  "language_info": {
   "codemirror_mode": {
    "name": "ipython",
    "version": 3
   },
   "file_extension": ".py",
   "mimetype": "text/x-python",
   "name": "python",
   "nbconvert_exporter": "python",
   "pygments_lexer": "ipython3",
   "version": "3.7.2"
  },
  "varInspector": {
   "cols": {
    "lenName": 16,
    "lenType": 16,
    "lenVar": 40
   },
   "kernels_config": {
    "python": {
     "delete_cmd_postfix": "",
     "delete_cmd_prefix": "del ",
     "library": "var_list.py",
     "varRefreshCmd": "print(var_dic_list())"
    },
    "r": {
     "delete_cmd_postfix": ") ",
     "delete_cmd_prefix": "rm(",
     "library": "var_list.r",
     "varRefreshCmd": "cat(var_dic_list()) "
    }
   },
   "types_to_exclude": [
    "module",
    "function",
    "builtin_function_or_method",
    "instance",
    "_Feature"
   ],
   "window_display": false
  }
 },
 "nbformat": 4,
 "nbformat_minor": 2
}
