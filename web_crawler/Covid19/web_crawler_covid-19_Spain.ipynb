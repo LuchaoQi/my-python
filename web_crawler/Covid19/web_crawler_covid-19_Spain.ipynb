{
 "cells": [
  {
   "cell_type": "code",
   "execution_count": 1,
   "metadata": {
    "ExecuteTime": {
     "end_time": "2020-04-07T21:13:55.732631Z",
     "start_time": "2020-04-07T21:13:55.520291Z"
    }
   },
   "outputs": [],
   "source": [
    "import numpy as np\n",
    "# ^^^ pyforest auto-imports - don't write above this line\n"
   ]
  },
  {
   "cell_type": "markdown",
   "metadata": {},
   "source": [
    "# Confirmed COVID-19 cases in Spain by autonomous community as of 6 April 2020\n",
    "https://en.wikipedia.org/wiki/2020_coronavirus_pandemic_in_Spain"
   ]
  },
  {
   "cell_type": "code",
   "execution_count": 2,
   "metadata": {
    "ExecuteTime": {
     "end_time": "2020-04-07T21:13:56.884082Z",
     "start_time": "2020-04-07T21:13:55.736239Z"
    }
   },
   "outputs": [],
   "source": [
    "import requests\n",
    "website_raw = requests.get('https://en.wikipedia.org/wiki/2020_coronavirus_pandemic_in_Spain').text\n",
    "from bs4 import BeautifulSoup\n",
    "soup = BeautifulSoup(website_raw, 'html.parser')"
   ]
  },
  {
   "cell_type": "code",
   "execution_count": 3,
   "metadata": {
    "ExecuteTime": {
     "end_time": "2020-04-07T21:13:56.961668Z",
     "start_time": "2020-04-07T21:13:56.886672Z"
    }
   },
   "outputs": [
    {
     "data": {
      "text/plain": [
       "<table class=\"wikitable sortable\" style=\"text-align:right; display:inline-table;\">\n",
       "<caption>Confirmed COVID-19 cases in Spain by autonomous community as of 6 April 2020, 21:00<sup class=\"reference\" id=\"cite_ref-es-covid-68_383-0\"><a href=\"#cite_note-es-covid-68-383\">[381]</a></sup> (<div class=\"plainlinks hlist navbar mini\"><ul><li class=\"nv-view\"><a href=\"/wiki/Template:2019%E2%80%9320_coronavirus_pandemic_data/Spain_medical_cases\" title=\"Template:2019–20 coronavirus pandemic data/Spain medical cases\"><abbr title=\"View this template\">v</abbr></a></li><li class=\"nv-talk\"><a href=\"/wiki/Template_talk:2019%E2%80%9320_coronavirus_pandemic_data/Spain_medical_cases\" title=\"Template talk:2019–20 coronavirus pandemic data/Spain medical cases\"><abbr title=\"Discuss this template\">t</abbr></a></li><li class=\"nv-edit\"><a class=\"external text\" href=\"https://en.wikipedia.org/w/index.php?title=Template:2019%E2%80%9320_coronavirus_pandemic_data/Spain_medical_cases&amp;action=edit\"><abbr title=\"Edit this template\">e</abbr></a></li></ul></div>)\n",
       "<p class=\"mw-empty-elt\"></p></caption>\n",
       "<tbody><tr>\n",
       "<th>Community\n",
       "</th>\n",
       "<th>Cases\n",
       "</th>\n",
       "<th><abbr title=\"Have required hospitalization, including ICU\">Hospit.</abbr><sup class=\"reference\" id=\"ref_currentA\"><a href=\"#endnote_currentA\">[A]</a></sup>\n",
       "</th>\n",
       "<th><abbr title=\"Have required to be in an Intensive Care Unit\">ICU</abbr><sup class=\"reference\" id=\"ref_currentA\"><a href=\"#endnote_currentA\">[A]</a></sup>\n",
       "</th>\n",
       "<th>Deaths\n",
       "</th>\n",
       "<th><abbr title=\"Recoveries\">Recov.</abbr>\n",
       "</th></tr>\n",
       "<tr>\n",
       "<td style=\"text-align:left;\"><span class=\"flagicon\"><a href=\"/wiki/Andalusia\" title=\"Andalusia\"><img alt=\"Andalusia\" class=\"thumbborder\" data-file-height=\"500\" data-file-width=\"750\" decoding=\"async\" height=\"15\" src=\"//upload.wikimedia.org/wikipedia/commons/thumb/2/20/Flag_of_Andaluc%C3%ADa.svg/23px-Flag_of_Andaluc%C3%ADa.svg.png\" srcset=\"//upload.wikimedia.org/wikipedia/commons/thumb/2/20/Flag_of_Andaluc%C3%ADa.svg/35px-Flag_of_Andaluc%C3%ADa.svg.png 1.5x, //upload.wikimedia.org/wikipedia/commons/thumb/2/20/Flag_of_Andaluc%C3%ADa.svg/45px-Flag_of_Andaluc%C3%ADa.svg.png 2x\" width=\"23\"/></a></span> <a href=\"/wiki/Andalusia\" title=\"Andalusia\">Andalusia</a>\n",
       "</td>\n",
       "<td>8,767\n",
       "</td>\n",
       "<td>4,335\n",
       "</td>\n",
       "<td>499\n",
       "</td>\n",
       "<td>528\n",
       "</td>\n",
       "<td>900\n",
       "</td></tr>\n",
       "<tr>\n",
       "<td style=\"text-align:left;\"><span class=\"flagicon\"><a href=\"/wiki/Aragon\" title=\"Aragon\"><img alt=\"Aragon\" class=\"thumbborder\" data-file-height=\"667\" data-file-width=\"1000\" decoding=\"async\" height=\"15\" src=\"//upload.wikimedia.org/wikipedia/commons/thumb/1/18/Flag_of_Aragon.svg/23px-Flag_of_Aragon.svg.png\" srcset=\"//upload.wikimedia.org/wikipedia/commons/thumb/1/18/Flag_of_Aragon.svg/35px-Flag_of_Aragon.svg.png 1.5x, //upload.wikimedia.org/wikipedia/commons/thumb/1/18/Flag_of_Aragon.svg/45px-Flag_of_Aragon.svg.png 2x\" width=\"23\"/></a></span> <a href=\"/wiki/Aragon\" title=\"Aragon\">Aragon</a>\n",
       "</td>\n",
       "<td>3,449\n",
       "</td>\n",
       "<td>1,663\n",
       "</td>\n",
       "<td>247\n",
       "</td>\n",
       "<td>312\n",
       "</td>\n",
       "<td>578\n",
       "</td></tr>\n",
       "<tr>\n",
       "<td style=\"text-align:left;\"><span class=\"flagicon\"><a href=\"/wiki/Asturias\" title=\"Asturias\"><img alt=\"Asturias\" class=\"thumbborder\" data-file-height=\"600\" data-file-width=\"900\" decoding=\"async\" height=\"15\" src=\"//upload.wikimedia.org/wikipedia/commons/thumb/3/3e/Flag_of_Asturias.svg/23px-Flag_of_Asturias.svg.png\" srcset=\"//upload.wikimedia.org/wikipedia/commons/thumb/3/3e/Flag_of_Asturias.svg/35px-Flag_of_Asturias.svg.png 1.5x, //upload.wikimedia.org/wikipedia/commons/thumb/3/3e/Flag_of_Asturias.svg/45px-Flag_of_Asturias.svg.png 2x\" width=\"23\"/></a></span> <a href=\"/wiki/Asturias\" title=\"Asturias\">Asturias</a> <span style=\"font-size:85%;\">(<a href=\"/wiki/2020_coronavirus_pandemic_in_Asturias\" title=\"2020 coronavirus pandemic in Asturias\">article</a>)</span>\n",
       "</td>\n",
       "<td>1,679\n",
       "</td>\n",
       "<td>889\n",
       "</td>\n",
       "<td>91\n",
       "</td>\n",
       "<td>96\n",
       "</td>\n",
       "<td>244\n",
       "</td></tr>\n",
       "<tr>\n",
       "<td style=\"text-align:left;\"><span class=\"flagicon\"><a href=\"/wiki/Balearic_Islands\" title=\"Balearic Islands\"><img alt=\"Balearic Islands\" class=\"thumbborder\" data-file-height=\"720\" data-file-width=\"1080\" decoding=\"async\" height=\"15\" src=\"//upload.wikimedia.org/wikipedia/commons/thumb/7/7b/Flag_of_the_Balearic_Islands.svg/23px-Flag_of_the_Balearic_Islands.svg.png\" srcset=\"//upload.wikimedia.org/wikipedia/commons/thumb/7/7b/Flag_of_the_Balearic_Islands.svg/35px-Flag_of_the_Balearic_Islands.svg.png 1.5x, //upload.wikimedia.org/wikipedia/commons/thumb/7/7b/Flag_of_the_Balearic_Islands.svg/45px-Flag_of_the_Balearic_Islands.svg.png 2x\" width=\"23\"/></a></span> <a href=\"/wiki/Balearic_Islands\" title=\"Balearic Islands\">Balearic Islands</a>\n",
       "</td>\n",
       "<td>1,369\n",
       "</td>\n",
       "<td>705\n",
       "</td>\n",
       "<td>124\n",
       "</td>\n",
       "<td>84\n",
       "</td>\n",
       "<td>537\n",
       "</td></tr>\n",
       "<tr>\n",
       "<td style=\"text-align:left;\"><span class=\"flagicon\"><a href=\"/wiki/Canary_Islands\" title=\"Canary Islands\"><img alt=\"Canary Islands\" class=\"thumbborder\" data-file-height=\"400\" data-file-width=\"600\" decoding=\"async\" height=\"15\" src=\"//upload.wikimedia.org/wikipedia/commons/thumb/b/b0/Flag_of_the_Canary_Islands.svg/23px-Flag_of_the_Canary_Islands.svg.png\" srcset=\"//upload.wikimedia.org/wikipedia/commons/thumb/b/b0/Flag_of_the_Canary_Islands.svg/35px-Flag_of_the_Canary_Islands.svg.png 1.5x, //upload.wikimedia.org/wikipedia/commons/thumb/b/b0/Flag_of_the_Canary_Islands.svg/45px-Flag_of_the_Canary_Islands.svg.png 2x\" width=\"23\"/></a></span> <a href=\"/wiki/Canary_Islands\" title=\"Canary Islands\">Canary Islands</a> <span style=\"font-size:85%;\">(<a href=\"/wiki/2020_coronavirus_pandemic_in_the_Canary_Islands\" title=\"2020 coronavirus pandemic in the Canary Islands\">article</a>)</span>\n",
       "</td>\n",
       "<td>1,725\n",
       "</td>\n",
       "<td>689\n",
       "</td>\n",
       "<td>137\n",
       "</td>\n",
       "<td>89\n",
       "</td>\n",
       "<td>186\n",
       "</td></tr>\n",
       "<tr>\n",
       "<td style=\"text-align:left;\"><span class=\"flagicon\"><a href=\"/wiki/Cantabria\" title=\"Cantabria\"><img alt=\"Cantabria\" class=\"thumbborder\" data-file-height=\"500\" data-file-width=\"750\" decoding=\"async\" height=\"15\" src=\"//upload.wikimedia.org/wikipedia/commons/thumb/3/30/Flag_of_Cantabria.svg/23px-Flag_of_Cantabria.svg.png\" srcset=\"//upload.wikimedia.org/wikipedia/commons/thumb/3/30/Flag_of_Cantabria.svg/35px-Flag_of_Cantabria.svg.png 1.5x, //upload.wikimedia.org/wikipedia/commons/thumb/3/30/Flag_of_Cantabria.svg/45px-Flag_of_Cantabria.svg.png 2x\" width=\"23\"/></a></span> <a href=\"/wiki/Cantabria\" title=\"Cantabria\">Cantabria</a>\n",
       "</td>\n",
       "<td>1,501\n",
       "</td>\n",
       "<td>677\n",
       "</td>\n",
       "<td>66\n",
       "</td>\n",
       "<td>85\n",
       "</td>\n",
       "<td>129\n",
       "</td></tr>\n",
       "<tr>\n",
       "<td style=\"text-align:left;\"><span class=\"flagicon\"><a href=\"/wiki/Castilla%E2%80%93La_Mancha\" title=\"Castilla–La Mancha\"><img alt=\"Castilla–La Mancha\" class=\"thumbborder\" data-file-height=\"500\" data-file-width=\"1000\" decoding=\"async\" height=\"12\" src=\"//upload.wikimedia.org/wikipedia/commons/thumb/d/d4/Bandera_Castilla-La_Mancha.svg/23px-Bandera_Castilla-La_Mancha.svg.png\" srcset=\"//upload.wikimedia.org/wikipedia/commons/thumb/d/d4/Bandera_Castilla-La_Mancha.svg/35px-Bandera_Castilla-La_Mancha.svg.png 1.5x, //upload.wikimedia.org/wikipedia/commons/thumb/d/d4/Bandera_Castilla-La_Mancha.svg/46px-Bandera_Castilla-La_Mancha.svg.png 2x\" width=\"23\"/></a></span> <a href=\"/wiki/Castilla%E2%80%93La_Mancha\" title=\"Castilla–La Mancha\">Castilla–La Mancha</a>\n",
       "</td>\n",
       "<td>11,077\n",
       "</td>\n",
       "<td>2,908\n",
       "</td>\n",
       "<td>360\n",
       "</td>\n",
       "<td>1,177\n",
       "</td>\n",
       "<td>1,353\n",
       "</td></tr>\n",
       "<tr>\n",
       "<td style=\"text-align:left;\"><span class=\"flagicon\"><a href=\"/wiki/Castile_and_Le%C3%B3n\" title=\"Castile and León\"><img alt=\"Castile and León\" class=\"thumbborder\" data-file-height=\"500\" data-file-width=\"650\" decoding=\"async\" height=\"15\" src=\"//upload.wikimedia.org/wikipedia/commons/thumb/1/13/Flag_of_Castile_and_Le%C3%B3n.svg/20px-Flag_of_Castile_and_Le%C3%B3n.svg.png\" srcset=\"//upload.wikimedia.org/wikipedia/commons/thumb/1/13/Flag_of_Castile_and_Le%C3%B3n.svg/30px-Flag_of_Castile_and_Le%C3%B3n.svg.png 1.5x, //upload.wikimedia.org/wikipedia/commons/thumb/1/13/Flag_of_Castile_and_Le%C3%B3n.svg/39px-Flag_of_Castile_and_Le%C3%B3n.svg.png 2x\" width=\"20\"/></a></span> <a href=\"/wiki/Castile_and_Le%C3%B3n\" title=\"Castile and León\">Castile and León</a>\n",
       "</td>\n",
       "<td>9,581\n",
       "</td>\n",
       "<td>5,180\n",
       "</td>\n",
       "<td>346\n",
       "</td>\n",
       "<td>982\n",
       "</td>\n",
       "<td>2,711\n",
       "</td></tr>\n",
       "<tr>\n",
       "<td style=\"text-align:left;\"><span class=\"flagicon\"><a href=\"/wiki/Catalonia\" title=\"Catalonia\"><img alt=\"Catalonia\" class=\"thumbborder\" data-file-height=\"540\" data-file-width=\"810\" decoding=\"async\" height=\"15\" src=\"//upload.wikimedia.org/wikipedia/commons/thumb/c/ce/Flag_of_Catalonia.svg/23px-Flag_of_Catalonia.svg.png\" srcset=\"//upload.wikimedia.org/wikipedia/commons/thumb/c/ce/Flag_of_Catalonia.svg/35px-Flag_of_Catalonia.svg.png 1.5x, //upload.wikimedia.org/wikipedia/commons/thumb/c/ce/Flag_of_Catalonia.svg/45px-Flag_of_Catalonia.svg.png 2x\" width=\"23\"/></a></span> <a href=\"/wiki/Catalonia\" title=\"Catalonia\">Catalonia</a>\n",
       "</td>\n",
       "<td>28,323\n",
       "</td>\n",
       "<td>19,745\n",
       "</td>\n",
       "<td>2,391\n",
       "</td>\n",
       "<td>2,908\n",
       "</td>\n",
       "<td>10,738\n",
       "</td></tr>\n",
       "<tr>\n",
       "<td style=\"text-align:left;\"><span class=\"flagicon\"><a href=\"/wiki/Ceuta\" title=\"Ceuta\"><img alt=\"Ceuta\" class=\"thumbborder\" data-file-height=\"500\" data-file-width=\"750\" decoding=\"async\" height=\"15\" src=\"//upload.wikimedia.org/wikipedia/commons/thumb/f/fd/Flag_Ceuta.svg/23px-Flag_Ceuta.svg.png\" srcset=\"//upload.wikimedia.org/wikipedia/commons/thumb/f/fd/Flag_Ceuta.svg/35px-Flag_Ceuta.svg.png 1.5x, //upload.wikimedia.org/wikipedia/commons/thumb/f/fd/Flag_Ceuta.svg/45px-Flag_Ceuta.svg.png 2x\" width=\"23\"/></a></span> <a href=\"/wiki/Ceuta\" title=\"Ceuta\">Ceuta</a> <span style=\"font-size:85%;\">(<a href=\"/wiki/2020_coronavirus_pandemic_in_Ceuta\" title=\"2020 coronavirus pandemic in Ceuta\">article</a>)</span>\n",
       "</td>\n",
       "<td>83\n",
       "</td>\n",
       "<td>9\n",
       "</td>\n",
       "<td>4\n",
       "</td>\n",
       "<td>4\n",
       "</td>\n",
       "<td>2\n",
       "</td></tr>\n",
       "<tr>\n",
       "<td style=\"text-align:left;\"><span class=\"flagicon\"><a href=\"/wiki/Valencian_Community\" title=\"Valencian Community\"><img alt=\"Valencian Community\" class=\"thumbborder\" data-file-height=\"340\" data-file-width=\"512\" decoding=\"async\" height=\"15\" src=\"//upload.wikimedia.org/wikipedia/commons/thumb/1/16/Flag_of_the_Valencian_Community_%282x3%29.svg/23px-Flag_of_the_Valencian_Community_%282x3%29.svg.png\" srcset=\"//upload.wikimedia.org/wikipedia/commons/thumb/1/16/Flag_of_the_Valencian_Community_%282x3%29.svg/35px-Flag_of_the_Valencian_Community_%282x3%29.svg.png 1.5x, //upload.wikimedia.org/wikipedia/commons/thumb/1/16/Flag_of_the_Valencian_Community_%282x3%29.svg/45px-Flag_of_the_Valencian_Community_%282x3%29.svg.png 2x\" width=\"23\"/></a></span> <a href=\"/wiki/Valencian_Community\" title=\"Valencian Community\">Valencian Community</a>\n",
       "</td>\n",
       "<td>7,443\n",
       "</td>\n",
       "<td>1,887\n",
       "</td>\n",
       "<td>384\n",
       "</td>\n",
       "<td>672\n",
       "</td>\n",
       "<td>1,103\n",
       "</td></tr>\n",
       "<tr>\n",
       "<td style=\"text-align:left;\"><span class=\"flagicon\"><a href=\"/wiki/Extremadura\" title=\"Extremadura\"><img alt=\"Extremadura\" class=\"thumbborder\" data-file-height=\"500\" data-file-width=\"750\" decoding=\"async\" height=\"15\" src=\"//upload.wikimedia.org/wikipedia/commons/thumb/4/4d/Flag_of_Extremadura_%28with_coat_of_arms%29.svg/23px-Flag_of_Extremadura_%28with_coat_of_arms%29.svg.png\" srcset=\"//upload.wikimedia.org/wikipedia/commons/thumb/4/4d/Flag_of_Extremadura_%28with_coat_of_arms%29.svg/35px-Flag_of_Extremadura_%28with_coat_of_arms%29.svg.png 1.5x, //upload.wikimedia.org/wikipedia/commons/thumb/4/4d/Flag_of_Extremadura_%28with_coat_of_arms%29.svg/45px-Flag_of_Extremadura_%28with_coat_of_arms%29.svg.png 2x\" width=\"23\"/></a></span> <a href=\"/wiki/Extremadura\" title=\"Extremadura\">Extremadura</a>\n",
       "</td>\n",
       "<td>2,116\n",
       "</td>\n",
       "<td>686\n",
       "</td>\n",
       "<td>70\n",
       "</td>\n",
       "<td>258\n",
       "</td>\n",
       "<td>282\n",
       "</td></tr>\n",
       "<tr>\n",
       "<td style=\"text-align:left;\"><span class=\"flagicon\"><a href=\"/wiki/Galicia_(Spain)\" title=\"Galicia (Spain)\"><img alt=\"Galicia (Spain)\" class=\"thumbborder\" data-file-height=\"400\" data-file-width=\"600\" decoding=\"async\" height=\"15\" src=\"//upload.wikimedia.org/wikipedia/commons/thumb/6/64/Flag_of_Galicia.svg/23px-Flag_of_Galicia.svg.png\" srcset=\"//upload.wikimedia.org/wikipedia/commons/thumb/6/64/Flag_of_Galicia.svg/35px-Flag_of_Galicia.svg.png 1.5x, //upload.wikimedia.org/wikipedia/commons/thumb/6/64/Flag_of_Galicia.svg/45px-Flag_of_Galicia.svg.png 2x\" width=\"23\"/></a></span> <a href=\"/wiki/Galicia_(Spain)\" title=\"Galicia (Spain)\">Galicia</a>\n",
       "</td>\n",
       "<td>6,331\n",
       "</td>\n",
       "<td>1,968\n",
       "</td>\n",
       "<td>162\n",
       "</td>\n",
       "<td>204\n",
       "</td>\n",
       "<td>688\n",
       "</td></tr>\n",
       "<tr>\n",
       "<td style=\"text-align:left;\"><span class=\"flagicon\"><a href=\"/wiki/Community_of_Madrid\" title=\"Community of Madrid\"><img alt=\"Community of Madrid\" class=\"thumbborder\" data-file-height=\"700\" data-file-width=\"1100\" decoding=\"async\" height=\"15\" src=\"//upload.wikimedia.org/wikipedia/commons/thumb/9/9c/Flag_of_the_Community_of_Madrid.svg/23px-Flag_of_the_Community_of_Madrid.svg.png\" srcset=\"//upload.wikimedia.org/wikipedia/commons/thumb/9/9c/Flag_of_the_Community_of_Madrid.svg/35px-Flag_of_the_Community_of_Madrid.svg.png 1.5x, //upload.wikimedia.org/wikipedia/commons/thumb/9/9c/Flag_of_the_Community_of_Madrid.svg/46px-Flag_of_the_Community_of_Madrid.svg.png 2x\" width=\"23\"/></a></span> <a href=\"/wiki/Community_of_Madrid\" title=\"Community of Madrid\">Community of Madrid</a> <span style=\"font-size:85%;\">(<a href=\"/wiki/2020_coronavirus_pandemic_in_the_Community_of_Madrid\" title=\"2020 coronavirus pandemic in the Community of Madrid\">article</a>)</span>\n",
       "</td>\n",
       "<td>40,469\n",
       "</td>\n",
       "<td>13,950\n",
       "</td>\n",
       "<td>1,494\n",
       "</td>\n",
       "<td>5,371\n",
       "</td>\n",
       "<td>18,410\n",
       "</td></tr>\n",
       "<tr>\n",
       "<td style=\"text-align:left;\"><span class=\"flagicon\"><a href=\"/wiki/Melilla\" title=\"Melilla\"><img alt=\"Melilla\" class=\"thumbborder\" data-file-height=\"500\" data-file-width=\"750\" decoding=\"async\" height=\"15\" src=\"//upload.wikimedia.org/wikipedia/commons/thumb/f/f7/Flag_of_Melilla.svg/23px-Flag_of_Melilla.svg.png\" srcset=\"//upload.wikimedia.org/wikipedia/commons/thumb/f/f7/Flag_of_Melilla.svg/35px-Flag_of_Melilla.svg.png 1.5x, //upload.wikimedia.org/wikipedia/commons/thumb/f/f7/Flag_of_Melilla.svg/45px-Flag_of_Melilla.svg.png 2x\" width=\"23\"/></a></span> <a href=\"/wiki/Melilla\" title=\"Melilla\">Melilla</a> <span style=\"font-size:85%;\">(<a href=\"/wiki/2020_coronavirus_pandemic_in_Melilla\" title=\"2020 coronavirus pandemic in Melilla\">article</a>)</span>\n",
       "</td>\n",
       "<td>92\n",
       "</td>\n",
       "<td>40\n",
       "</td>\n",
       "<td>3\n",
       "</td>\n",
       "<td>2\n",
       "</td>\n",
       "<td>11\n",
       "</td></tr>\n",
       "<tr>\n",
       "<td style=\"text-align:left;\"><span class=\"flagicon\"><a href=\"/wiki/Region_of_Murcia\" title=\"Region of Murcia\"><img alt=\"Region of Murcia\" class=\"thumbborder\" data-file-height=\"500\" data-file-width=\"750\" decoding=\"async\" height=\"15\" src=\"//upload.wikimedia.org/wikipedia/commons/thumb/a/a5/Flag_of_the_Region_of_Murcia.svg/23px-Flag_of_the_Region_of_Murcia.svg.png\" srcset=\"//upload.wikimedia.org/wikipedia/commons/thumb/a/a5/Flag_of_the_Region_of_Murcia.svg/35px-Flag_of_the_Region_of_Murcia.svg.png 1.5x, //upload.wikimedia.org/wikipedia/commons/thumb/a/a5/Flag_of_the_Region_of_Murcia.svg/45px-Flag_of_the_Region_of_Murcia.svg.png 2x\" width=\"23\"/></a></span> <a href=\"/wiki/Murcia\" title=\"Murcia\">Murcia</a>\n",
       "</td>\n",
       "<td>1,283\n",
       "</td>\n",
       "<td>500\n",
       "</td>\n",
       "<td>84\n",
       "</td>\n",
       "<td>78\n",
       "</td>\n",
       "<td>193\n",
       "</td></tr>\n",
       "<tr>\n",
       "<td style=\"text-align:left;\"><span class=\"flagicon\"><a href=\"/wiki/Navarre\" title=\"Navarre\"><img alt=\"Navarre\" class=\"thumbborder\" data-file-height=\"500\" data-file-width=\"750\" decoding=\"async\" height=\"15\" src=\"//upload.wikimedia.org/wikipedia/commons/thumb/3/36/Bandera_de_Navarra.svg/23px-Bandera_de_Navarra.svg.png\" srcset=\"//upload.wikimedia.org/wikipedia/commons/thumb/3/36/Bandera_de_Navarra.svg/35px-Bandera_de_Navarra.svg.png 1.5x, //upload.wikimedia.org/wikipedia/commons/thumb/3/36/Bandera_de_Navarra.svg/45px-Bandera_de_Navarra.svg.png 2x\" width=\"23\"/></a></span> <a href=\"/wiki/Navarre\" title=\"Navarre\">Navarre</a>\n",
       "</td>\n",
       "<td>3,355\n",
       "</td>\n",
       "<td>1,488\n",
       "</td>\n",
       "<td>124\n",
       "</td>\n",
       "<td>202\n",
       "</td>\n",
       "<td>421\n",
       "</td></tr>\n",
       "<tr>\n",
       "<td style=\"text-align:left;\"><span class=\"flagicon\"><a href=\"/wiki/Basque_Country_(autonomous_community)\" title=\"Basque Country (autonomous community)\"><img alt=\"Basque Country (autonomous community)\" class=\"thumbborder\" data-file-height=\"560\" data-file-width=\"1000\" decoding=\"async\" height=\"13\" src=\"//upload.wikimedia.org/wikipedia/commons/thumb/2/2d/Flag_of_the_Basque_Country.svg/23px-Flag_of_the_Basque_Country.svg.png\" srcset=\"//upload.wikimedia.org/wikipedia/commons/thumb/2/2d/Flag_of_the_Basque_Country.svg/35px-Flag_of_the_Basque_Country.svg.png 1.5x, //upload.wikimedia.org/wikipedia/commons/thumb/2/2d/Flag_of_the_Basque_Country.svg/46px-Flag_of_the_Basque_Country.svg.png 2x\" width=\"23\"/></a></span> <a href=\"/wiki/Basque_Country_(autonomous_community)\" title=\"Basque Country (autonomous community)\">Basque Country</a>\n",
       "</td>\n",
       "<td>9,021\n",
       "</td>\n",
       "<td>4,856\n",
       "</td>\n",
       "<td>417\n",
       "</td>\n",
       "<td>586\n",
       "</td>\n",
       "<td>3,728\n",
       "</td></tr>\n",
       "<tr>\n",
       "<td style=\"text-align:left;\"><span class=\"flagicon\"><a href=\"/wiki/La_Rioja_(Spain)\" title=\"La Rioja (Spain)\"><img alt=\"La Rioja (Spain)\" class=\"thumbborder\" data-file-height=\"500\" data-file-width=\"750\" decoding=\"async\" height=\"15\" src=\"//upload.wikimedia.org/wikipedia/commons/thumb/d/db/Flag_of_La_Rioja_%28with_coat_of_arms%29.svg/23px-Flag_of_La_Rioja_%28with_coat_of_arms%29.svg.png\" srcset=\"//upload.wikimedia.org/wikipedia/commons/thumb/d/db/Flag_of_La_Rioja_%28with_coat_of_arms%29.svg/35px-Flag_of_La_Rioja_%28with_coat_of_arms%29.svg.png 1.5x, //upload.wikimedia.org/wikipedia/commons/thumb/d/db/Flag_of_La_Rioja_%28with_coat_of_arms%29.svg/45px-Flag_of_La_Rioja_%28with_coat_of_arms%29.svg.png 2x\" width=\"23\"/></a></span> <a href=\"/wiki/La_Rioja_(Spain)\" title=\"La Rioja (Spain)\">La Rioja</a>\n",
       "</td>\n",
       "<td>2,846\n",
       "</td>\n",
       "<td>918\n",
       "</td>\n",
       "<td>66\n",
       "</td>\n",
       "<td>160\n",
       "</td>\n",
       "<td>994\n",
       "</td></tr>\n",
       "<tr class=\"sortbottom\">\n",
       "<td><b>Total</b>\n",
       "</td>\n",
       "<td><b>140,510</b>\n",
       "</td>\n",
       "<td><b>63,093</b>\n",
       "</td>\n",
       "<td><b>7,069</b>\n",
       "</td>\n",
       "<td><b>13,798</b>\n",
       "</td>\n",
       "<td><b>43,208</b>\n",
       "</td></tr>\n",
       "<tr class=\"sortbottom\">\n",
       "<td colspan=\"6\"><small><span class=\"citation wikicite\" id=\"endnote_currentA\"><a href=\"#ref_currentA\"><b><sup>A</sup></b></a>For Castilla-La Mancha, Castile and Leon, Valencian Community, and Community of Madrid:<br/>patients <i>currently</i> hospitalized or in an ICU;<br/>For others: patients that <i>have been</i> hospitalized or in an ICU</span> </small>\n",
       "</td></tr></tbody></table>"
      ]
     },
     "execution_count": 3,
     "metadata": {},
     "output_type": "execute_result"
    }
   ],
   "source": [
    "wikitable = soup.find('table', class_='wikitable sortable')\n",
    "wikitable"
   ]
  },
  {
   "cell_type": "code",
   "execution_count": 4,
   "metadata": {
    "ExecuteTime": {
     "end_time": "2020-04-07T21:13:56.969689Z",
     "start_time": "2020-04-07T21:13:56.964671Z"
    }
   },
   "outputs": [],
   "source": [
    "temp = []\n",
    "for link in wikitable.findAll('td'):\n",
    "    temp.append(link.text.strip())"
   ]
  },
  {
   "cell_type": "code",
   "execution_count": 5,
   "metadata": {
    "ExecuteTime": {
     "end_time": "2020-04-07T21:13:56.991668Z",
     "start_time": "2020-04-07T21:13:56.971668Z"
    }
   },
   "outputs": [],
   "source": [
    "Community = []\n",
    "Cases = []\n",
    "Hospital = []\n",
    "ICU = []\n",
    "Deaths = []\n",
    "Recov = []\n",
    "for i in range(len(temp)):\n",
    "    if i % 6 == 0: Community.append(temp[i]) \n",
    "    if i % 6 == 1: Cases.append(temp[i]) \n",
    "    if i % 6 == 2: Hospital.append(temp[i]) \n",
    "    if i % 6 == 3: ICU.append(temp[i]) \n",
    "    if i % 6 == 4: Deaths.append(temp[i]) \n",
    "    if i % 6 == 5: Recov.append(temp[i])\n",
    "        \n",
    "Community[:] = Community[:-1]"
   ]
  },
  {
   "cell_type": "code",
   "execution_count": 6,
   "metadata": {
    "ExecuteTime": {
     "end_time": "2020-04-07T21:13:57.007669Z",
     "start_time": "2020-04-07T21:13:56.994673Z"
    }
   },
   "outputs": [
    {
     "name": "stdout",
     "output_type": "stream",
     "text": [
      "('Andalusia', '8,767', '4,335', '499', '528', '900')\n",
      "('Aragon', '3,449', '1,663', '247', '312', '578')\n",
      "('Asturias (article)', '1,679', '889', '91', '96', '244')\n"
     ]
    }
   ],
   "source": [
    "rows = zip(Community,Cases,Hospital,ICU,Deaths,Recov)\n",
    "rows_iter = iter(rows)\n",
    "print(next(rows_iter))\n",
    "print(next(rows_iter))\n",
    "print(next(rows_iter))"
   ]
  },
  {
   "cell_type": "code",
   "execution_count": 9,
   "metadata": {
    "ExecuteTime": {
     "end_time": "2020-04-07T21:16:27.371502Z",
     "start_time": "2020-04-07T21:16:27.359505Z"
    }
   },
   "outputs": [],
   "source": [
    "import csv\n",
    "\n",
    "with open('Confirmed COVID-19 cases in Spain by autonomous community as of 6 April 2020.csv', \"w\", newline='')as f:\n",
    "    writer = csv.writer(f)\n",
    "    writer.writerow(('Community','Cases','Hospital','ICU','Deaths','Recov'))\n",
    "    writer.writerows(zip(Community,Cases,Hospital,ICU,Deaths,Recov))\n",
    "f.close()\n"
   ]
  }
 ],
 "metadata": {
  "kernelspec": {
   "display_name": "Python 3.7.5 64-bit",
   "language": "python",
   "name": "python37564bit6932499eb08041038e0fc47c2bf2c2e8"
  },
  "language_info": {
   "codemirror_mode": {
    "name": "ipython",
    "version": 3
   },
   "file_extension": ".py",
   "mimetype": "text/x-python",
   "name": "python",
   "nbconvert_exporter": "python",
   "pygments_lexer": "ipython3",
   "version": "3.7.5"
  },
  "toc": {
   "base_numbering": 1,
   "nav_menu": {},
   "number_sections": true,
   "sideBar": true,
   "skip_h1_title": false,
   "title_cell": "Table of Contents",
   "title_sidebar": "Contents",
   "toc_cell": false,
   "toc_position": {},
   "toc_section_display": true,
   "toc_window_display": false
  },
  "varInspector": {
   "cols": {
    "lenName": 16,
    "lenType": 16,
    "lenVar": 40
   },
   "kernels_config": {
    "python": {
     "delete_cmd_postfix": "",
     "delete_cmd_prefix": "del ",
     "library": "var_list.py",
     "varRefreshCmd": "print(var_dic_list())"
    },
    "r": {
     "delete_cmd_postfix": ") ",
     "delete_cmd_prefix": "rm(",
     "library": "var_list.r",
     "varRefreshCmd": "cat(var_dic_list()) "
    }
   },
   "types_to_exclude": [
    "module",
    "function",
    "builtin_function_or_method",
    "instance",
    "_Feature"
   ],
   "window_display": false
  }
 },
 "nbformat": 4,
 "nbformat_minor": 4
}
