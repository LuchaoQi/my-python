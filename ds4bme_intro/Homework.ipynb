{
  "nbformat": 4,
  "nbformat_minor": 0,
  "metadata": {
    "colab": {
      "name": "Homework.ipynb",
      "version": "0.3.2",
      "provenance": [],
      "include_colab_link": true
    },
    "kernelspec": {
      "name": "python3",
      "display_name": "Python 3"
    }
  },
  "cells": [
    {
      "cell_type": "markdown",
      "metadata": {
        "id": "view-in-github",
        "colab_type": "text"
      },
      "source": [
        "<a href=\"https://colab.research.google.com/github/bcaffo/ds4bme_intro/blob/master/notebooks/Homework.ipynb\" target=\"_parent\"><img src=\"https://colab.research.google.com/assets/colab-badge.svg\" alt=\"Open In Colab\"/></a>"
      ]
    },
    {
      "cell_type": "markdown",
      "metadata": {
        "id": "o8Ez59sDpvap",
        "colab_type": "text"
      },
      "source": [
        "Here's some homework to get you ready for the next class. Try to do the homework right after or before each class.\n",
        "\n",
        "# Lecture 0\n",
        "\n",
        "1. Get a colab account; create an empty notebook and play around with python in colab\n",
        "2. Duplicate the first colab notebook from class.\n",
        "3. Create a github account; create a repository; we'll email you a github classroom id\n"
      ]
    },
    {
      "cell_type": "markdown",
      "metadata": {
        "id": "Cu8yVx9ep4HX",
        "colab_type": "text"
      },
      "source": [
        "# Lecture 1\n",
        "\n",
        "1. Fit a model to the kirby 21 dataset into colab. Do a scatterplot of the left telencephalon **(type 1 level 1) volume** by the right.\n",
        "2. Create a vector of the left telencelphalon **(type 1 level 1) volume** values and the right. Demean each. Fit a regression through the origin model with the left telecephalon as the outcome and the right as the predictor. Also do the same with the left as the predictor and the right as the outcome. Plot the fitted lines on your scatterplot. To obtain the regression slope, both code it yourself and use a regression function in python.\n",
        "3. Consider a regression through the origin model $Y=BX$. What would be the impact on the estimate of $B$ if we replaced $X$ by $cX$ where $c$ is a positive constant?\n"
      ]
    },
    {
      "cell_type": "markdown",
      "metadata": {
        "id": "0wjsCSDNp6EM",
        "colab_type": "text"
      },
      "source": [
        "# Lecture 2\n",
        "\n",
        "1. Let $X_i$ be a group indicator so that \n",
        "$$\n",
        "x_i = I(i \\in G_1)\n",
        "$$\n",
        "I.e. takes the value $1$ when $i$ is in group 1 and 0 if $i$ is in group 0. Consider optimizing \n",
        "$$\n",
        "\\sum_{i=1}^n (Y_i - \\beta_0 - \\beta_1 X_i)^2.\n",
        "$$\n",
        "If $\\hat Y = \\hat \\beta_0 + \\hat \\beta_1 X$ argue that $\\hat Y$ is the group mean for group 1 if $X=1$ and the group mean for group 0 if $X=0$. \n",
        "2. Write a python function that takes an X and Y vector and returns an estimated $\\beta_0$ and $\\beta_1$ from linear regression. Check your function versus one of the prewritten ones.\n",
        "3. Consider the Kirby 21 data. Plot a scatter plot of the left diencephalon (type 1 level 1) and the right. Find the best line fit for predicting the right using the left. Plot the line on the scatterplot. Find the best fit line for predicting the left using the right as a predictor. Plot this on the same plot.\n",
        "4. Argue that if you take the vectors $Y$ and $X$ and divide them by their standard deviations (respectively), the slope for either regressing $Y$ on $X$ or $X$ on $Y$ is simply the correlation. "
      ]
    }
  ]
}