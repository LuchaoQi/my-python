{
 "cells": [
  {
   "cell_type": "code",
   "execution_count": 182,
   "metadata": {},
   "outputs": [
    {
     "name": "stdout",
     "output_type": "stream",
     "text": [
      "0\n",
      "1\n",
      "(0, '1')\n",
      "(1, '2')\n",
      "(2, '3')\n",
      "asd1223\n",
      "1\n",
      "0\n",
      "asdiii\n",
      "asdasd\n"
     ]
    }
   ],
   "source": [
    "for _ in range(2):\n",
    "    print(_)\n",
    "a = 123\n",
    "for i in enumerate(str(a)):\n",
    "    print(i)\n",
    "\n",
    "a = ['asd','12','2','3']\n",
    "print(''.join(a))\n",
    "\n",
    "for i in range(1):\n",
    "    print(1)\n",
    "a = 'aasd'\n",
    "for i in range(1):\n",
    "    print(i)\n",
    "stra = 'asd'\n",
    "for i in range(len(stra)):\n",
    "    stra = stra + 'i'\n",
    "print(stra)\n",
    "\n",
    "a = '__asdas_d'\n",
    "a = a.replace('_','')\n",
    "print(a)"
   ]
  },
  {
   "cell_type": "code",
   "execution_count": 206,
   "metadata": {},
   "outputs": [
    {
     "name": "stdout",
     "output_type": "stream",
     "text": [
      "8\n",
      "True\n",
      "{1, 2}\n",
      "3\n",
      "0\n"
     ]
    }
   ],
   "source": [
    "n = 123\n",
    "s = sum(int(i)**2 for i in str(n))\n",
    "s = n & 12\n",
    "print(s)\n",
    "a = {1}\n",
    "a.add(2)\n",
    "print(isinstance(a,set))\n",
    "a = set()\n",
    "a.add(1)\n",
    "a.add(2)\n",
    "print(a)\n",
    "a = [[1,2,3],[2],[1213]]\n",
    "print(len(a))\n",
    "a = []\n",
    "print(len(a))"
   ]
  },
  {
   "cell_type": "markdown",
   "metadata": {},
   "source": [
    "# String"
   ]
  },
  {
   "cell_type": "code",
   "execution_count": 49,
   "metadata": {},
   "outputs": [
    {
     "name": "stdout",
     "output_type": "stream",
     "text": [
      "-1\n",
      "1\n",
      "9\n",
      "=====\n",
      "-1\n"
     ]
    }
   ],
   "source": [
    "p = {\"(\": 1.1, \")\": -1.1, \"{\": 2.22, \"}\": -2.22, \"[\": 3.333, \"]\": -3.333}\n",
    "a = \"\"\n",
    "for i in a:\n",
    "    print(p[i])\n",
    "print(min([-1] or []))\n",
    "\n",
    "\n",
    "b = 'axsdbqiswx'\n",
    "print(b.find('x'))\n",
    "print(b.rfind('x'))\n",
    "# print(b.index('c')) wil produce error\n",
    "print(\"=====\")\n",
    "print(min([] or [-1]))"
   ]
  },
  {
   "cell_type": "markdown",
   "metadata": {},
   "source": [
    "# Valid Parentheses"
   ]
  },
  {
   "cell_type": "code",
   "execution_count": 43,
   "metadata": {},
   "outputs": [
    {
     "name": "stdout",
     "output_type": "stream",
     "text": [
      "True\n"
     ]
    }
   ],
   "source": [
    "class Solution:\n",
    "    # @return a boolean\n",
    "    def isValid(self, s):\n",
    "        stack = []\n",
    "        dict = {\"]\":\"[\", \"}\":\"{\", \")\":\"(\"}\n",
    "        for char in s:\n",
    "            if char in dict.values():\n",
    "                stack.append(char)\n",
    "            elif char in dict.keys():\n",
    "                if stack == [] or dict[char] != stack.pop():\n",
    "                    return False\n",
    "            else:\n",
    "                return False\n",
    "        return stack == []\n",
    "    \n",
    "    \n",
    "class Solution:\n",
    "    def isValid(self, s):\n",
    "        l = len(s)\n",
    "        if l % 2 != 0:\n",
    "            return False\n",
    "\n",
    "        p = {\"(\": 1.1, \")\": -1.1, \"{\": 2.22, \"}\": -2.22, \"[\": 3.333, \"]\": -3.333}\n",
    "        num = [0]\n",
    "\n",
    "        for c in s:\n",
    "            if num[-1] + p[c] == 0:\n",
    "                num.pop()\n",
    "            else:\n",
    "                num.append(p[c])\n",
    "    \n",
    "        if len(num) != 1:\n",
    "            return False\n",
    "        else:\n",
    "            return True\n",
    "a = Solution()\n",
    "print(a.isValid(\"\"))"
   ]
  },
  {
   "cell_type": "markdown",
   "metadata": {},
   "source": [
    "# Tanspose list"
   ]
  },
  {
   "cell_type": "code",
   "execution_count": 26,
   "metadata": {},
   "outputs": [
    {
     "name": "stdout",
     "output_type": "stream",
     "text": [
      "[('a', 'c', 'e'), ('b', 'd', 'f')]\n"
     ]
    }
   ],
   "source": [
    "original = [['a','b'],['c','d'],['e','f']]\n",
    "transposed = zip(*original)\n",
    "print(list(transposed))"
   ]
  },
  {
   "cell_type": "markdown",
   "metadata": {},
   "source": [
    "# Dictionary - Combination"
   ]
  },
  {
   "cell_type": "code",
   "execution_count": 41,
   "metadata": {},
   "outputs": [
    {
     "name": "stdout",
     "output_type": "stream",
     "text": [
      "{'a': 1, 'b': 2}\n",
      "{'b': 2, 'a': 1}\n",
      "{'a': 1, 'b': 2}\n"
     ]
    }
   ],
   "source": [
    "d1 = {'a':1}\n",
    "d2 = {'b':2}\n",
    "print({**d1,**d2})\n",
    "print(dict(d1.items()|d2.items()))\n",
    "d1.update(d2)\n",
    "print(d1)"
   ]
  },
  {
   "cell_type": "markdown",
   "metadata": {
    "cell_style": "center"
   },
   "source": [
    "# Readin file"
   ]
  },
  {
   "cell_type": "code",
   "execution_count": 4,
   "metadata": {},
   "outputs": [
    {
     "name": "stdout",
     "output_type": "stream",
     "text": [
      "['**/.idea', '.ipynb_checkpoints', '.vs', 'data/', '**data**']\n",
      "['**/.idea', '.ipynb_checkpoints', '.vs', 'data/', '**data**']\n"
     ]
    }
   ],
   "source": [
    "\n",
    "# with automatically close file at end\n",
    "with open('.gitignore') as a:\n",
    "    print(a.read().split())\n",
    "\n",
    "\n",
    "a = open('.gitignore','r')\n",
    "b = a.read().split()\n",
    "print(b)\n",
    "a.close()"
   ]
  },
  {
   "cell_type": "markdown",
   "metadata": {},
   "source": [
    "# DFS combinationSum"
   ]
  },
  {
   "cell_type": "code",
   "execution_count": 5,
   "metadata": {},
   "outputs": [
    {
     "name": "stdout",
     "output_type": "stream",
     "text": [
      "[[2, 2, 2, 2], [2, 6]]\n"
     ]
    }
   ],
   "source": [
    "class solution():\n",
    "    def combinationSum(self,candidates,target):\n",
    "        candidates.sort()\n",
    "        res = []\n",
    "        self.dfs(candidates,target,0,[],res)\n",
    "        return res\n",
    "    def dfs(self,candidates,target,index,path,res):\n",
    "        if target < 0:\n",
    "            return res\n",
    "        if target == 0:\n",
    "            res.append(path)\n",
    "            return res\n",
    "        for i in range(index,len(candidates)):\n",
    "            if target < candidates[i]:\n",
    "                break\n",
    "            self.dfs(candidates,target-candidates[i],i,path + [candidates[i]],res)\n",
    "\n",
    "if __name__ == \"__main__\":\n",
    "    s = solution()\n",
    "    print(s.combinationSum([2,5,6,7],8))\n"
   ]
  },
  {
   "cell_type": "markdown",
   "metadata": {},
   "source": [
    "# Split/Partition dataset"
   ]
  },
  {
   "cell_type": "code",
   "execution_count": null,
   "metadata": {
    "scrolled": true
   },
   "outputs": [],
   "source": [
    "from sklearn.model_selection import train_test_split\n",
    "X_train, X_test, y_train, y_test = train_test_split(X, y, test_size=0.3)\n",
    "\n",
    "# https://github.com/bcaffo/ds4bme_intro/blob/cf08aa5662ab8d4081742f11b6b4d18dccacad8f/notebooks/notebook3.ipynb\n",
    "import numpy as np\n",
    "trainFraction = 0.75\n",
    "## Hold out data\n",
    "np.random.seed(100)\n",
    "sample = np.random.uniform(size = 100) < trainFraction\n",
    "# xtrain = x[ sample]\n",
    "# ytrain = y[ sample]\n",
    "# xtest =  x[~sample]\n",
    "# ytest =  y[~sample]\n",
    "\n",
    "import numpy\n",
    "# x is your dataset\n",
    "x = numpy.random.rand(100, 5)\n",
    "numpy.random.shuffle(x)\n",
    "training, test = x[:80,:], x[80:,:]"
   ]
  }
 ],
 "metadata": {
  "kernelspec": {
   "display_name": "Python 3",
   "language": "python",
   "name": "python3"
  },
  "language_info": {
   "codemirror_mode": {
    "name": "ipython",
    "version": 3
   },
   "file_extension": ".py",
   "mimetype": "text/x-python",
   "name": "python",
   "nbconvert_exporter": "python",
   "pygments_lexer": "ipython3",
   "version": "3.7.2"
  },
  "toc": {
   "base_numbering": 1,
   "nav_menu": {},
   "number_sections": false,
   "sideBar": true,
   "skip_h1_title": false,
   "title_cell": "Table of Contents",
   "title_sidebar": "Contents",
   "toc_cell": false,
   "toc_position": {
    "height": "calc(100% - 180px)",
    "left": "10px",
    "top": "150px",
    "width": "243.194px"
   },
   "toc_section_display": true,
   "toc_window_display": true
  },
  "varInspector": {
   "cols": {
    "lenName": 16,
    "lenType": 16,
    "lenVar": 40
   },
   "kernels_config": {
    "python": {
     "delete_cmd_postfix": "",
     "delete_cmd_prefix": "del ",
     "library": "var_list.py",
     "varRefreshCmd": "print(var_dic_list())"
    },
    "r": {
     "delete_cmd_postfix": ") ",
     "delete_cmd_prefix": "rm(",
     "library": "var_list.r",
     "varRefreshCmd": "cat(var_dic_list()) "
    }
   },
   "position": {
    "height": "257.667px",
    "left": "835.889px",
    "right": "20px",
    "top": "120px",
    "width": "360.111px"
   },
   "types_to_exclude": [
    "module",
    "function",
    "builtin_function_or_method",
    "instance",
    "_Feature"
   ],
   "window_display": false
  }
 },
 "nbformat": 4,
 "nbformat_minor": 2
}
