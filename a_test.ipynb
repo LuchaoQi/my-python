{
 "cells": [
  {
   "cell_type": "markdown",
   "metadata": {},
   "source": [
    "# Tanspose list"
   ]
  },
  {
   "cell_type": "code",
   "execution_count": 26,
   "metadata": {},
   "outputs": [
    {
     "name": "stdout",
     "output_type": "stream",
     "text": [
      "[('a', 'c', 'e'), ('b', 'd', 'f')]\n"
     ]
    }
   ],
   "source": [
    "original = [['a','b'],['c','d'],['e','f']]\n",
    "transposed = zip(*original)\n",
    "print(list(transposed))"
   ]
  },
  {
   "cell_type": "markdown",
   "metadata": {},
   "source": [
    "# List - maxIndex"
   ]
  },
  {
   "cell_type": "code",
   "execution_count": 30,
   "metadata": {},
   "outputs": [
    {
     "name": "stdout",
     "output_type": "stream",
     "text": [
      "1\n",
      "0\n"
     ]
    }
   ],
   "source": [
    "lst = [40,10,20,30]\n",
    "def minIndex(lst):\n",
    "    return min(range(len(lst)),key=lst.__getitem__)\n",
    "def maxIndex(lst):\n",
    "    return max(range(len(lst)),key= lambda x: lst[x])\n",
    "\n",
    "print(min(range(len(lst)),key= lambda x: lst[x]))\n",
    "print(maxIndex(lst))\n"
   ]
  },
  {
   "cell_type": "markdown",
   "metadata": {},
   "source": [
    "# Dictionary - Combination"
   ]
  },
  {
   "cell_type": "code",
   "execution_count": 14,
   "metadata": {},
   "outputs": [
    {
     "name": "stdout",
     "output_type": "stream",
     "text": [
      "[('a', 'c', 'e'), ('b', 'd', 'f')]\n",
      "{'a': 1, 'b': 2}\n",
      "{'a': 1, 'b': 2}\n",
      "{'a': 1, 'b': 2}\n"
     ]
    }
   ],
   "source": [
    "d1 = {'a':1}\n",
    "d2 = {'b':2}\n",
    "print({**d1,**d2})\n",
    "print(dict(d1.items()|d2.items()))\n",
    "d1.update(d2)\n",
    "print(d1)"
   ]
  },
  {
   "cell_type": "markdown",
   "metadata": {
    "cell_style": "center"
   },
   "source": [
    "# Readin file"
   ]
  },
  {
   "cell_type": "code",
   "execution_count": 4,
   "metadata": {},
   "outputs": [
    {
     "name": "stdout",
     "output_type": "stream",
     "text": [
      "['This', 'is', 'test', 'file', 'for', 'NLP', 'test.', 'Check,', 'some', 'algorithm']\n",
      "['This', 'is', 'test', 'file', 'for', 'NLP', 'test.', 'Check,', 'some', 'algorithm']\n"
     ]
    }
   ],
   "source": [
    "\n",
    "# with automatically close file at end\n",
    "with open('test_file.txt') as a:\n",
    "    print(a.read().split())\n",
    "\n",
    "\n",
    "a = open('test_file.txt')\n",
    "b = a.read().split()\n",
    "print(b)\n",
    "a.close()"
   ]
  },
  {
   "cell_type": "markdown",
   "metadata": {},
   "source": [
    "# DFS combinationSum"
   ]
  },
  {
   "cell_type": "code",
   "execution_count": 5,
   "metadata": {},
   "outputs": [
    {
     "name": "stdout",
     "output_type": "stream",
     "text": [
      "[[2, 2, 2, 2], [2, 6]]\n"
     ]
    }
   ],
   "source": [
    "class solution():\n",
    "    def combinationSum(self,candidates,target):\n",
    "        candidates.sort()\n",
    "        res = []\n",
    "        self.dfs(candidates,target,0,[],res)\n",
    "        return res\n",
    "    def dfs(self,candidates,target,index,path,res):\n",
    "        if target < 0:\n",
    "            return res\n",
    "        if target == 0:\n",
    "            res.append(path)\n",
    "            return res\n",
    "        for i in range(index,len(candidates)):\n",
    "            if target < candidates[i]:\n",
    "                break\n",
    "            self.dfs(candidates,target-candidates[i],i,path + [candidates[i]],res)\n",
    "\n",
    "if __name__ == \"__main__\":\n",
    "    s = solution()\n",
    "    print(s.combinationSum([2,5,6,7],8))\n"
   ]
  },
  {
   "cell_type": "markdown",
   "metadata": {},
   "source": [
    "# Split/Partition dataset"
   ]
  },
  {
   "cell_type": "code",
   "execution_count": 6,
   "metadata": {},
   "outputs": [],
   "source": [
    "from sklearn.model_selection import train_test_split\n",
    "X_train, X_test, y_train, y_test = train_test_split(X, y, test_size=0.3)\n",
    "\n",
    "# https://github.com/bcaffo/ds4bme_intro/blob/cf08aa5662ab8d4081742f11b6b4d18dccacad8f/notebooks/notebook3.ipynb\n",
    "import numpy as np\n",
    "trainFraction = 0.75\n",
    "## Hold out data\n",
    "sample = np.random.uniform(size = 100) < trainFraction\n",
    "# xtrain = x[ sample]\n",
    "# ytrain = y[ sample]\n",
    "# xtest =  x[~sample]\n",
    "# ytest =  y[~sample]\n",
    "\n",
    "import numpy\n",
    "# x is your dataset\n",
    "x = numpy.random.rand(100, 5)\n",
    "numpy.random.shuffle(x)\n",
    "training, test = x[:80,:], x[80:,:]"
   ]
  }
 ],
 "metadata": {
  "kernelspec": {
   "display_name": "Python 3",
   "language": "python",
   "name": "python3"
  },
  "language_info": {
   "codemirror_mode": {
    "name": "ipython",
    "version": 3
   },
   "file_extension": ".py",
   "mimetype": "text/x-python",
   "name": "python",
   "nbconvert_exporter": "python",
   "pygments_lexer": "ipython3",
   "version": "3.7.3"
  },
  "toc": {
   "base_numbering": 1,
   "nav_menu": {},
   "number_sections": false,
   "sideBar": true,
   "skip_h1_title": false,
   "title_cell": "Table of Contents",
   "title_sidebar": "Contents",
   "toc_cell": false,
   "toc_position": {},
   "toc_section_display": true,
   "toc_window_display": true
  },
  "varInspector": {
   "cols": {
    "lenName": 16,
    "lenType": 16,
    "lenVar": 40
   },
   "kernels_config": {
    "python": {
     "delete_cmd_postfix": "",
     "delete_cmd_prefix": "del ",
     "library": "var_list.py",
     "varRefreshCmd": "print(var_dic_list())"
    },
    "r": {
     "delete_cmd_postfix": ") ",
     "delete_cmd_prefix": "rm(",
     "library": "var_list.r",
     "varRefreshCmd": "cat(var_dic_list()) "
    }
   },
   "position": {
    "height": "257.667px",
    "left": "835.889px",
    "right": "20px",
    "top": "120px",
    "width": "360.111px"
   },
   "types_to_exclude": [
    "module",
    "function",
    "builtin_function_or_method",
    "instance",
    "_Feature"
   ],
   "window_display": false
  }
 },
 "nbformat": 4,
 "nbformat_minor": 2
}
