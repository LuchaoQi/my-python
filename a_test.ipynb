{
 "cells": [
  {
   "cell_type": "markdown",
   "metadata": {},
   "source": [
    "# ListNode"
   ]
  },
  {
   "cell_type": "code",
   "execution_count": 121,
   "metadata": {},
   "outputs": [
    {
     "ename": "AttributeError",
     "evalue": "'list' object has no attribute 'val'",
     "output_type": "error",
     "traceback": [
      "\u001b[1;31m---------------------------------------------------------------------------\u001b[0m",
      "\u001b[1;31mAttributeError\u001b[0m                            Traceback (most recent call last)",
      "\u001b[1;32m<ipython-input-121-d916e722d244>\u001b[0m in \u001b[0;36m<module>\u001b[1;34m\u001b[0m\n\u001b[0;32m     21\u001b[0m \u001b[1;32mif\u001b[0m \u001b[0m__name__\u001b[0m \u001b[1;33m==\u001b[0m \u001b[1;34m'__main__'\u001b[0m\u001b[1;33m:\u001b[0m\u001b[1;33m\u001b[0m\u001b[1;33m\u001b[0m\u001b[0m\n\u001b[0;32m     22\u001b[0m     \u001b[0ms\u001b[0m \u001b[1;33m=\u001b[0m \u001b[0mSolution\u001b[0m\u001b[1;33m(\u001b[0m\u001b[1;33m)\u001b[0m\u001b[1;33m\u001b[0m\u001b[1;33m\u001b[0m\u001b[0m\n\u001b[1;32m---> 23\u001b[1;33m     \u001b[0mprint\u001b[0m\u001b[1;33m(\u001b[0m\u001b[0ms\u001b[0m\u001b[1;33m.\u001b[0m\u001b[0mmergeTwoLists\u001b[0m\u001b[1;33m(\u001b[0m\u001b[1;33m[\u001b[0m\u001b[1;36m1\u001b[0m\u001b[1;33m,\u001b[0m\u001b[1;36m2\u001b[0m\u001b[1;33m,\u001b[0m\u001b[1;36m3\u001b[0m\u001b[1;33m]\u001b[0m\u001b[1;33m,\u001b[0m\u001b[1;33m[\u001b[0m\u001b[1;36m2\u001b[0m\u001b[1;33m,\u001b[0m\u001b[1;36m3\u001b[0m\u001b[1;33m,\u001b[0m\u001b[1;36m4\u001b[0m\u001b[1;33m]\u001b[0m\u001b[1;33m)\u001b[0m\u001b[1;33m)\u001b[0m\u001b[1;33m\u001b[0m\u001b[1;33m\u001b[0m\u001b[0m\n\u001b[0m",
      "\u001b[1;32m<ipython-input-121-d916e722d244>\u001b[0m in \u001b[0;36mmergeTwoLists\u001b[1;34m(self, l1, l2)\u001b[0m\n\u001b[0;32m      7\u001b[0m         \u001b[0mcur\u001b[0m \u001b[1;33m=\u001b[0m \u001b[0mres\u001b[0m\u001b[1;33m\u001b[0m\u001b[1;33m\u001b[0m\u001b[0m\n\u001b[0;32m      8\u001b[0m         \u001b[1;32mwhile\u001b[0m \u001b[0ml1\u001b[0m \u001b[1;32mand\u001b[0m \u001b[0ml2\u001b[0m\u001b[1;33m:\u001b[0m\u001b[1;33m\u001b[0m\u001b[1;33m\u001b[0m\u001b[0m\n\u001b[1;32m----> 9\u001b[1;33m             \u001b[1;32mif\u001b[0m \u001b[0ml1\u001b[0m\u001b[1;33m.\u001b[0m\u001b[0mval\u001b[0m \u001b[1;33m<\u001b[0m \u001b[0ml2\u001b[0m\u001b[1;33m.\u001b[0m\u001b[0mval\u001b[0m\u001b[1;33m:\u001b[0m\u001b[1;33m\u001b[0m\u001b[1;33m\u001b[0m\u001b[0m\n\u001b[0m\u001b[0;32m     10\u001b[0m                 \u001b[0mcur\u001b[0m\u001b[1;33m.\u001b[0m\u001b[0mnext\u001b[0m \u001b[1;33m=\u001b[0m \u001b[0ml1\u001b[0m\u001b[1;33m\u001b[0m\u001b[1;33m\u001b[0m\u001b[0m\n\u001b[0;32m     11\u001b[0m                 \u001b[0ml1\u001b[0m \u001b[1;33m=\u001b[0m \u001b[0ml1\u001b[0m\u001b[1;33m.\u001b[0m\u001b[0mnext\u001b[0m\u001b[1;33m\u001b[0m\u001b[1;33m\u001b[0m\u001b[0m\n",
      "\u001b[1;31mAttributeError\u001b[0m: 'list' object has no attribute 'val'"
     ]
    }
   ],
   "source": [
    "# Recursive Algo\n",
    "class Solution:\n",
    "    def mergeTwoLists(self, l1, l2):\n",
    "        temp = None\n",
    "        if not l1 or not l2:\n",
    "            return l1 or l2\n",
    "        if l1.val < l2.val:\n",
    "            temp = l1\n",
    "            temp.next = self.mergeTwoLists(l1.next,l2)\n",
    "        else:\n",
    "            temp = l2\n",
    "            temp.next = self.mergeTwoLists(l1,l2.next)\n",
    "        return temp\n",
    "\n",
    "# Straight forward Bruce Force\n",
    "class Solution:\n",
    "    def mergeTwoLists(self, l1, l2):\n",
    "        if l1 is None or l2 is None:\n",
    "            return l1 or l2\n",
    "        # dummy head\n",
    "        res = ListNode(None)\n",
    "        cur = res\n",
    "        while l1 and l2:\n",
    "            if l1.val < l2.val:\n",
    "                cur.next = l1\n",
    "                l1 = l1.next\n",
    "            else:\n",
    "                cur.next = l2\n",
    "                l2 = l2.next\n",
    "            cur = cur.next\n",
    "        #update the cur chain to move forward\n",
    "        cur.next = l1 or l2\n",
    "        # return the chain of dummy.next\n",
    "        return res.next\n",
    "    \n"
   ]
  },
  {
   "cell_type": "markdown",
   "metadata": {},
   "source": [
    "# String"
   ]
  },
  {
   "cell_type": "code",
   "execution_count": 87,
   "metadata": {
    "scrolled": false
   },
   "outputs": [
    {
     "name": "stdout",
     "output_type": "stream",
     "text": [
      "-1\n",
      "-1\n",
      "-1\n",
      "=====\n",
      "-1\n"
     ]
    }
   ],
   "source": [
    "p = {\"(\": 1.1, \")\": -1.1, \"{\": 2.22, \"}\": -2.22, \"[\": 3.333, \"]\": -3.333}\n",
    "a = \"\"\n",
    "for i in a:\n",
    "    print(p[i])\n",
    "print(min([-1] or []))\n",
    "\n",
    "\n",
    "b = 'asdbqisw'\n",
    "print(b.find('x'))\n",
    "print(b.rfind('x'))\n",
    "# print(b.index('x')) wil produce error\n",
    "print(\"=====\")\n",
    "print(min([] or [-1]))"
   ]
  },
  {
   "cell_type": "markdown",
   "metadata": {},
   "source": [
    "# List - maxIndex"
   ]
  },
  {
   "cell_type": "code",
   "execution_count": 30,
   "metadata": {},
   "outputs": [
    {
     "name": "stdout",
     "output_type": "stream",
     "text": [
      "1\n",
      "0\n"
     ]
    }
   ],
   "source": [
    "lst = [40,10,20,30]\n",
    "def minIndex(lst):\n",
    "    return min(range(len(lst)),key=lst.__getitem__)\n",
    "def maxIndex(lst):\n",
    "    return max(range(len(lst)),key= lambda x: lst[x])\n",
    "\n",
    "print(min(range(len(lst)),key= lambda x: lst[x]))\n",
    "print(maxIndex(lst))\n"
   ]
  },
  {
   "cell_type": "markdown",
   "metadata": {},
   "source": [
    "# Valid Parentheses"
   ]
  },
  {
   "cell_type": "code",
   "execution_count": 43,
   "metadata": {},
   "outputs": [
    {
     "name": "stdout",
     "output_type": "stream",
     "text": [
      "True\n"
     ]
    }
   ],
   "source": [
    "class Solution:\n",
    "    # @return a boolean\n",
    "    def isValid(self, s):\n",
    "        stack = []\n",
    "        dict = {\"]\":\"[\", \"}\":\"{\", \")\":\"(\"}\n",
    "        for char in s:\n",
    "            if char in dict.values():\n",
    "                stack.append(char)\n",
    "            elif char in dict.keys():\n",
    "                if stack == [] or dict[char] != stack.pop():\n",
    "                    return False\n",
    "            else:\n",
    "                return False\n",
    "        return stack == []\n",
    "    \n",
    "    \n",
    "class Solution:\n",
    "    def isValid(self, s):\n",
    "        l = len(s)\n",
    "        if l % 2 != 0:\n",
    "            return False\n",
    "\n",
    "        p = {\"(\": 1.1, \")\": -1.1, \"{\": 2.22, \"}\": -2.22, \"[\": 3.333, \"]\": -3.333}\n",
    "        num = [0]\n",
    "\n",
    "        for c in s:\n",
    "            if num[-1] + p[c] == 0:\n",
    "                num.pop()\n",
    "            else:\n",
    "                num.append(p[c])\n",
    "    \n",
    "        if len(num) != 1:\n",
    "            return False\n",
    "        else:\n",
    "            return True\n",
    "a = Solution()\n",
    "print(a.isValid(\"\"))"
   ]
  },
  {
   "cell_type": "markdown",
   "metadata": {},
   "source": [
    "# Tanspose list"
   ]
  },
  {
   "cell_type": "code",
   "execution_count": 26,
   "metadata": {},
   "outputs": [
    {
     "name": "stdout",
     "output_type": "stream",
     "text": [
      "[('a', 'c', 'e'), ('b', 'd', 'f')]\n"
     ]
    }
   ],
   "source": [
    "original = [['a','b'],['c','d'],['e','f']]\n",
    "transposed = zip(*original)\n",
    "print(list(transposed))"
   ]
  },
  {
   "cell_type": "markdown",
   "metadata": {},
   "source": [
    "# Dictionary - Combination"
   ]
  },
  {
   "cell_type": "code",
   "execution_count": 41,
   "metadata": {},
   "outputs": [
    {
     "name": "stdout",
     "output_type": "stream",
     "text": [
      "{'a': 1, 'b': 2}\n",
      "{'b': 2, 'a': 1}\n",
      "{'a': 1, 'b': 2}\n"
     ]
    }
   ],
   "source": [
    "d1 = {'a':1}\n",
    "d2 = {'b':2}\n",
    "print({**d1,**d2})\n",
    "print(dict(d1.items()|d2.items()))\n",
    "d1.update(d2)\n",
    "print(d1)"
   ]
  },
  {
   "cell_type": "markdown",
   "metadata": {
    "cell_style": "center"
   },
   "source": [
    "# Readin file"
   ]
  },
  {
   "cell_type": "code",
   "execution_count": 4,
   "metadata": {},
   "outputs": [
    {
     "name": "stdout",
     "output_type": "stream",
     "text": [
      "['This', 'is', 'test', 'file', 'for', 'NLP', 'test.', 'Check,', 'some', 'algorithm']\n",
      "['This', 'is', 'test', 'file', 'for', 'NLP', 'test.', 'Check,', 'some', 'algorithm']\n"
     ]
    }
   ],
   "source": [
    "\n",
    "# with automatically close file at end\n",
    "with open('test_file.txt') as a:\n",
    "    print(a.read().split())\n",
    "\n",
    "\n",
    "a = open('test_file.txt')\n",
    "b = a.read().split()\n",
    "print(b)\n",
    "a.close()"
   ]
  },
  {
   "cell_type": "markdown",
   "metadata": {},
   "source": [
    "# DFS combinationSum"
   ]
  },
  {
   "cell_type": "code",
   "execution_count": 5,
   "metadata": {},
   "outputs": [
    {
     "name": "stdout",
     "output_type": "stream",
     "text": [
      "[[2, 2, 2, 2], [2, 6]]\n"
     ]
    }
   ],
   "source": [
    "class solution():\n",
    "    def combinationSum(self,candidates,target):\n",
    "        candidates.sort()\n",
    "        res = []\n",
    "        self.dfs(candidates,target,0,[],res)\n",
    "        return res\n",
    "    def dfs(self,candidates,target,index,path,res):\n",
    "        if target < 0:\n",
    "            return res\n",
    "        if target == 0:\n",
    "            res.append(path)\n",
    "            return res\n",
    "        for i in range(index,len(candidates)):\n",
    "            if target < candidates[i]:\n",
    "                break\n",
    "            self.dfs(candidates,target-candidates[i],i,path + [candidates[i]],res)\n",
    "\n",
    "if __name__ == \"__main__\":\n",
    "    s = solution()\n",
    "    print(s.combinationSum([2,5,6,7],8))\n"
   ]
  },
  {
   "cell_type": "markdown",
   "metadata": {},
   "source": [
    "# Split/Partition dataset"
   ]
  },
  {
   "cell_type": "code",
   "execution_count": 6,
   "metadata": {},
   "outputs": [],
   "source": [
    "from sklearn.model_selection import train_test_split\n",
    "X_train, X_test, y_train, y_test = train_test_split(X, y, test_size=0.3)\n",
    "\n",
    "# https://github.com/bcaffo/ds4bme_intro/blob/cf08aa5662ab8d4081742f11b6b4d18dccacad8f/notebooks/notebook3.ipynb\n",
    "import numpy as np\n",
    "trainFraction = 0.75\n",
    "## Hold out data\n",
    "sample = np.random.uniform(size = 100) < trainFraction\n",
    "# xtrain = x[ sample]\n",
    "# ytrain = y[ sample]\n",
    "# xtest =  x[~sample]\n",
    "# ytest =  y[~sample]\n",
    "\n",
    "import numpy\n",
    "# x is your dataset\n",
    "x = numpy.random.rand(100, 5)\n",
    "numpy.random.shuffle(x)\n",
    "training, test = x[:80,:], x[80:,:]"
   ]
  }
 ],
 "metadata": {
  "kernelspec": {
   "display_name": "Python 3",
   "language": "python",
   "name": "python3"
  },
  "language_info": {
   "codemirror_mode": {
    "name": "ipython",
    "version": 3
   },
   "file_extension": ".py",
   "mimetype": "text/x-python",
   "name": "python",
   "nbconvert_exporter": "python",
   "pygments_lexer": "ipython3",
   "version": "3.7.3"
  },
  "toc": {
   "base_numbering": 1,
   "nav_menu": {},
   "number_sections": false,
   "sideBar": true,
   "skip_h1_title": false,
   "title_cell": "Table of Contents",
   "title_sidebar": "Contents",
   "toc_cell": false,
   "toc_position": {
    "height": "calc(100% - 180px)",
    "left": "10px",
    "top": "150px",
    "width": "243.194px"
   },
   "toc_section_display": true,
   "toc_window_display": true
  },
  "varInspector": {
   "cols": {
    "lenName": 16,
    "lenType": 16,
    "lenVar": 40
   },
   "kernels_config": {
    "python": {
     "delete_cmd_postfix": "",
     "delete_cmd_prefix": "del ",
     "library": "var_list.py",
     "varRefreshCmd": "print(var_dic_list())"
    },
    "r": {
     "delete_cmd_postfix": ") ",
     "delete_cmd_prefix": "rm(",
     "library": "var_list.r",
     "varRefreshCmd": "cat(var_dic_list()) "
    }
   },
   "position": {
    "height": "257.667px",
    "left": "835.889px",
    "right": "20px",
    "top": "120px",
    "width": "360.111px"
   },
   "types_to_exclude": [
    "module",
    "function",
    "builtin_function_or_method",
    "instance",
    "_Feature"
   ],
   "window_display": false
  }
 },
 "nbformat": 4,
 "nbformat_minor": 2
}
